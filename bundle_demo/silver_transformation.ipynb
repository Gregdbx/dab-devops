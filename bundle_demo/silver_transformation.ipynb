{
 "cells": [
  {
   "cell_type": "markdown",
   "metadata": {
    "application/vnd.databricks.v1+cell": {
     "cellMetadata": {},
     "inputWidgets": {},
     "nuid": "ee353e42-ff58-4955-9608-12865bd0950e",
     "showTitle": false,
     "title": ""
    }
   },
   "source": [
    "# Tranformations example\n",
    "\n",
    "- Détecte automatiquement l'environnement d'exécution (développeur vs production) en vérifiant si le nom d'utilisateur contient '@'\n",
    "- Pour les développeurs, utilise un catalog personnalisé sandbox-{username}_sales et génère des données de test si les tables n'existent pas\n"
   ]
  },
  {
   "cell_type": "code",
   "execution_count": 1,
   "metadata": {
    "application/vnd.databricks.v1+cell": {
     "cellMetadata": {
      "byteLimit": 2048000,
      "rowLimit": 10000
     },
     "inputWidgets": {},
     "nuid": "6bca260b-13d1-448f-8082-30b60a85c9ae",
     "showTitle": false,
     "title": ""
    }
   },
   "outputs": [],
   "source": [
    "from pyspark.sql.types import StructType, StructField, IntegerType, DoubleType, StringType\n",
    "\n",
    "\n",
    "def get_test_products_df():\n",
    "    \"\"\"\n",
    "    Crée un DataFrame de test pour les transactions\n",
    "    \"\"\"\n",
    "    schema = StructType([\n",
    "        StructField(\"transaction_id\", IntegerType(), True),\n",
    "        StructField(\"customer_id\", IntegerType(), True),\n",
    "        StructField(\"product_id\", IntegerType(), True),\n",
    "        StructField(\"amount\", DoubleType(), True),\n",
    "        StructField(\"transaction_date\", StringType(), True)\n",
    "    ])\n",
    "    \n",
    "    data = [\n",
    "        (1, 101, 201, 100.0, \"2023-01-01\"),\n",
    "        (2, 102, 202, 150.0, \"2023-01-02\"),\n",
    "        (3, 103, 203, 200.0, \"2023-01-03\"),\n",
    "        (4, 101, 202, 120.0, \"2023-01-04\"),\n",
    "        (5, 104, 201, 80.0, \"2023-01-05\")\n",
    "    ]\n",
    "    return spark.createDataFrame(data, schema)\n",
    "  \n"
   ]
  },
  {
   "cell_type": "code",
   "execution_count": 2,
   "metadata": {},
   "outputs": [],
   "source": [
    "def table_exists(table_name):\n",
    "    \"\"\"\n",
    "    Vérifie si une table existe\n",
    "    \"\"\"\n",
    "    try:\n",
    "        spark.sqlf(\"SELECT * FROM {table_name}\")     \n",
    "        return True\n",
    "    except:\n",
    "        return False\n"
   ]
  },
  {
   "cell_type": "code",
   "execution_count": null,
   "metadata": {},
   "outputs": [],
   "source": [
    "def read_table_or_test_data(table_name, test_df_func, is_sandbox):\n",
    "    \"\"\"\n",
    "    Lit une table si elle existe, sinon retourne des données de test en mode sandbox\n",
    "    \"\"\"\n",
    "    print(f\"Tentative de lecture de la table: {table_name}\")\n",
    "    \n",
    "    if table_exists(table_name):\n",
    "        df = spark.sql(f\"SELECT * FROM {table_name}\")\n",
    "        print(f\"Table {table_name} lue avec succès: {df.count()} lignes\")\n",
    "        return df\n",
    "    else:\n",
    "        print(f\"Table {table_name} introuvable\")\n",
    "        test_df = test_df_func()\n",
    "        print(f\"Données de test générées: {test_df.count()} lignes\")\n",
    "        test_df.write.saveAsTable(table_name, mode=\"overwrite\")\n",
    "        return test_df\n"
   ]
  },
  {
   "cell_type": "code",
   "execution_count": null,
   "metadata": {},
   "outputs": [],
   "source": [
    "from pyspark.sql.functions import current_date,col\n",
    "\n",
    "def transform(catalog : str, is_sandbox : bool):\n",
    "    \"\"\"\n",
    "    Fonction principale de transformation\n",
    "    \"\"\"\n",
    "        \n",
    "    \n",
    "    # Table: Produits\n",
    "    products_table = f\"users.gregoire_portier.{catalog}_silver_products\"\n",
    "    products_df = read_table_or_test_data(\n",
    "        products_table, \n",
    "        get_test_products_df, \n",
    "        is_sandbox\n",
    "    )\n",
    "    \n",
    "    # Appliquer les transformations\n",
    "    print(\"Application des transformations\")\n",
    "    result_df = products_df.withColumn(\"processing_date\", current_date())\n",
    "    \n",
    "    \n",
    "    \n",
    "    # En mode sandbox, toujours créer une vue temporaire pour faciliter l'exploration\n",
    "    if is_sandbox:        \n",
    "        print(\"\\nAperçu des résultats:\")\n",
    "        result_df.show(truncate=False)\n",
    "    \n",
    "    # Écriture du résultat\n",
    "    output_table = f\"users.gregoire_portier.{catalog}_silver_products\"\n",
    "    print(f\"Écriture dans la table: {output_table}\")\n",
    "\n",
    "    try:\n",
    "        result_df.write.mode(\"overwrite\").saveAsTable(output_table, mode=\"overwrite\")\n",
    "        print(f\"Données écrites avec succès dans la table: {output_table}\")\n",
    "        print(\"Transformation terminée avec succès!\")\n",
    "\n",
    "    except Exception as e:\n",
    "        raise Exception(f\"Erreur lors de l'écriture dans {output_table}: {str(e)}\")    \n",
    "\n",
    "    return result_df\n"
   ]
  },
  {
   "cell_type": "code",
   "execution_count": 5,
   "metadata": {},
   "outputs": [
    {
     "name": "stdout",
     "output_type": "stream",
     "text": [
      "Démarrage de la transformation avec catalog: sandbox_gregoire_portier\n",
      "Mode sandbox: True\n",
      "Tentative de lecture de la table: users.gregoire_portier.sandbox_gregoire_portier_bronze_products\n",
      "Table users.gregoire_portier.sandbox_gregoire_portier_bronze_products introuvable\n",
      "Données de test générées: 5 lignes\n",
      "Application des transformations\n",
      "\n",
      "Aperçu des résultats:\n",
      "+--------------+-----------+----------+------+----------------+---------------+\n",
      "|transaction_id|customer_id|product_id|amount|transaction_date|processing_date|\n",
      "+--------------+-----------+----------+------+----------------+---------------+\n",
      "|1             |101        |201       |100.0 |2023-01-01      |2025-03-16     |\n",
      "|2             |102        |202       |150.0 |2023-01-02      |2025-03-16     |\n",
      "|3             |103        |203       |200.0 |2023-01-03      |2025-03-16     |\n",
      "|4             |101        |202       |120.0 |2023-01-04      |2025-03-16     |\n",
      "|5             |104        |201       |80.0  |2023-01-05      |2025-03-16     |\n",
      "+--------------+-----------+----------+------+----------------+---------------+\n",
      "\n",
      "Écriture dans la table: users.gregoire_portier.sandbox_gregoire_portier_silver_products\n",
      "Données écrites avec succès dans la table: users.gregoire_portier.sandbox_gregoire_portier_silver_products\n",
      "Transformation terminée avec succès!\n",
      "DATAFRAME NOT EMPTY\n"
     ]
    }
   ],
   "source": [
    "from commons.utils import get_catalog\n",
    "\n",
    "# Récupérer le catalog \n",
    "catalog = get_catalog()\n",
    "is_sandbox = \"sandbox\" in catalog\n",
    "\n",
    "print(f\"Démarrage de la transformation avec catalog: {catalog}\")\n",
    "print(f\"Mode sandbox: {is_sandbox}\")\n",
    "\n",
    "# Executer la transformation \n",
    "result = transform(catalog, is_sandbox)\n",
    "\n",
    "# For demo debugging \n",
    "if result.isEmpty():\n",
    "    is_empty = True\n",
    "    print(\"DATAFRAME EMPTY)\")\n",
    "else:\n",
    "    is_empty = False\n",
    "    print(\"DATAFRAME NOT EMPTY\")\n",
    "\n",
    "\n",
    "\n",
    "\n"
   ]
  }
 ],
 "metadata": {
  "application/vnd.databricks.v1+notebook": {
   "dashboards": [],
   "language": "python",
   "notebookMetadata": {
    "pythonIndentUnit": 2
   },
   "notebookName": "notebook",
   "widgets": {}
  },
  "kernelspec": {
   "display_name": "bundle_demo",
   "language": "python",
   "name": "python3"
  },
  "language_info": {
   "codemirror_mode": {
    "name": "ipython",
    "version": 3
   },
   "file_extension": ".py",
   "mimetype": "text/x-python",
   "name": "python",
   "nbconvert_exporter": "python",
   "pygments_lexer": "ipython3",
   "version": "3.13.2"
  }
 },
 "nbformat": 4,
 "nbformat_minor": 0
}
